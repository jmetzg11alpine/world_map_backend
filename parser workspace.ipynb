{
 "cells": [
  {
   "cell_type": "code",
   "execution_count": 2,
   "id": "a13a7b3e",
   "metadata": {},
   "outputs": [],
   "source": [
    "from bs4 import BeautifulSoup \n",
    "import requests"
   ]
  },
  {
   "cell_type": "code",
   "execution_count": 3,
   "id": "2abcdece",
   "metadata": {},
   "outputs": [],
   "source": [
    "headers = {'user-Agent': 'Mozilla/5.0 (compatible; MSIE 9.0; Windows NT 6.1; Win64; x64; Trident/5.0; .NET CLR 2.0.50727; SLCC2; .NET CLR 3.5.30729; .NET CLR 3.0.30729; Media Center PC 6.0; Zune 4.0; Tablet PC 2.0; InfoPath.3; .NET4.0C; .NET4.0E)'}"
   ]
  },
  {
   "cell_type": "code",
   "execution_count": 26,
   "id": "eecabf98",
   "metadata": {},
   "outputs": [
    {
     "data": {
      "text/plain": [
       "<Response [200]>"
      ]
     },
     "execution_count": 26,
     "metadata": {},
     "output_type": "execute_result"
    }
   ],
   "source": [
    "def get_number(td):\n",
    "    x = str(td)\n",
    "    x = x.split('\\n')[1].strip(' ')\n",
    "    return x.split('\\r')[0]\n",
    "\n",
    "session = requests.Session()\n",
    "request = session.get(url='https://tradingeconomics.com/stocks', timeout=30, headers=headers)\n",
    "soup = BeautifulSoup(request.text, 'html.parser')\n",
    "tbodies = soup.find_all('tbody')\n",
    "\n",
    "Europe = tbodies[1].find_all('td')\n",
    "Americas = tbodies[2].find_all('td')\n",
    "Asia = tbodies[3].find_all('td')\n",
    "Australia = tbodies[4].find_all('td')\n",
    "Africa = tbodies[5].find_all('td')\n",
    "\n",
    "europes = [('UK', 5), ('Germany', 15), ('France', 25), ('Italy', 35), ('Spain', 45), ('Russia', 55),\n",
    "          ('Turkey', 75), ('Sweden', 95), ('Poland', 105), ('Norway', 125), ('Austria', 135), ('Denmark', 145),\n",
    "          ('Finland', 155)]\n",
    "for europe in europes:\n",
    "    payload[europe[0]] = get_number(Europe[europe[1]])\n",
    "    \n",
    "americas = [('USA', 15), ('Ecuador', 35), ('Canada', 45), ('Brazil', 55), ('Mexico', 65), ('Peru', 75),\n",
    "           ('Argentina', 85), ('Venezuela', 95), ('Colombia', 105), ('Chile', 115)]\n",
    "for america in americas:\n",
    "    payload[america[0]] = get_number(Americas[america[1]])\n",
    "    \n",
    "asias = [('Japan', 5), ('China', 25), ('India', 55), ('Bangladesh', 65), ('Indonesia', 75), ('Saudi Arabia', 85),\n",
    "        ('Taiwan', 95), ('Thailand', 115), ('Malaysia', 125), ('Philippines', 165), ('Pakistan', 175),\n",
    "        ('Kazakhstan', 185), ('Vietnam', 215)]\n",
    "for asia in asias:\n",
    "    payload[asia[0]] = get_number(Asia[asia[1]])\n",
    "    \n",
    "australias = [('Australia', 5), ('New Zealand', 35)]\n",
    "for australia in australias:\n",
    "    payload[australia[0]] = get_number(Australia[australia[1]])\n",
    "    \n",
    "africas = [('Nigeria', 5), ('South Africa', 15), ('Egypt', 35), ('Morocco', 45), ('Kenya', 65), ('Tanzania', 75),\n",
    "          ('Tunisia', 85), ('Ghana', 95), ('Mauritius', 105), ('Uganda', 115), ('Namibia', 125), ('Botswana', 135),\n",
    "          ('Zimbabwe', 145)]\n",
    "for africa in africas:\n",
    "    payload[africa[0]] = get_number(Africa[africa[1]])\n",
    "\n",
    "request"
   ]
  },
  {
   "cell_type": "code",
   "execution_count": 27,
   "id": "4870bd38",
   "metadata": {
    "scrolled": false
   },
   "outputs": [
    {
     "data": {
      "text/plain": [
       "{'Nigeria': '-1.82% ',\n",
       " 'South Africa': '4.16% ',\n",
       " 'Egypt': '4.80% ',\n",
       " 'Morocco': '-1.89% ',\n",
       " 'Kenya': '-0.02% ',\n",
       " 'Tanzania': '-1.36% ',\n",
       " 'Tunisia': '-0.76% ',\n",
       " 'Ghana': '0.68% ',\n",
       " 'Mauritius': '-0.87% ',\n",
       " 'Uganda': '-3.14% ',\n",
       " 'Namibia': '4.99% ',\n",
       " 'Botswana': '0.05% ',\n",
       " 'Zimbabwe': '-0.92% ',\n",
       " 'UK': '2.13% ',\n",
       " 'Germany': '3.09% ',\n",
       " 'France': '2.45% ',\n",
       " 'Italy': '4.29% ',\n",
       " 'Spain': '0.90% ',\n",
       " 'Russia': '-0.33% ',\n",
       " 'Turkey': '7.10% ',\n",
       " 'Sweden': '2.66% ',\n",
       " 'Poland': '3.82% ',\n",
       " 'Norway': '0.17% ',\n",
       " 'Austria': '5.84% ',\n",
       " 'Denmark': '1.10% ',\n",
       " 'Finland': '3.78% ',\n",
       " 'USA': '-0.39% ',\n",
       " 'Ecuador': '-0.36% ',\n",
       " 'Canada': '0.35% ',\n",
       " 'Brazil': '-2.84% ',\n",
       " 'Mexico': '0.66% ',\n",
       " 'Peru': '4.53% ',\n",
       " 'Argentina': '-4.16% ',\n",
       " 'Venezuela': '3.45% ',\n",
       " 'Colombia': '0.36% ',\n",
       " 'Chile': '3.67% ',\n",
       " 'Japan': '0.20% ',\n",
       " 'China': '0.99% ',\n",
       " 'India': '0.21% ',\n",
       " 'Bangladesh': '0.49% ',\n",
       " 'Indonesia': '0.78% ',\n",
       " 'Saudi Arabia': '-1.07% ',\n",
       " 'Taiwan': '4.11% ',\n",
       " 'Thailand': '-0.21% ',\n",
       " 'Malaysia': '-0.37% ',\n",
       " 'Philippines': '0.57% ',\n",
       " 'Pakistan': '1.09% ',\n",
       " 'Kazakhstan': '-1.95% ',\n",
       " 'Vietnam': '-3.67% ',\n",
       " 'Australia': '-0.39% ',\n",
       " 'New Zealand': '-1.41% '}"
      ]
     },
     "execution_count": 27,
     "metadata": {},
     "output_type": "execute_result"
    }
   ],
   "source": [
    "payload"
   ]
  },
  {
   "cell_type": "code",
   "execution_count": 25,
   "id": "3aa91b4b",
   "metadata": {
    "scrolled": false
   },
   "outputs": [
    {
     "data": {
      "text/plain": [
       "{'Nigeria': '-1.82% ',\n",
       " 'South Africa': '3.75% ',\n",
       " 'Egypt': '4.80% ',\n",
       " 'Morocco': '-1.89% ',\n",
       " 'Kenya': '-0.02% ',\n",
       " 'Tanzania': '-1.36% ',\n",
       " 'Tunisia': '-0.76% ',\n",
       " 'Ghana': '0.68% ',\n",
       " 'Mauritius': '-0.87% ',\n",
       " 'Uganda': '-3.14% ',\n",
       " 'Namibia': '4.99% ',\n",
       " 'Botswana': '0.05% ',\n",
       " 'Zimbabwe': '-0.92% '}"
      ]
     },
     "execution_count": 25,
     "metadata": {},
     "output_type": "execute_result"
    }
   ],
   "source": [
    "payload = {}\n",
    "africas = [('Nigeria', 5), ('South Africa', 15), ('Egypt', 35), ('Morocco', 45), ('Kenya', 65), ('Tanzania', 75),\n",
    "          ('Tunisia', 85), ('Ghana', 95), ('Mauritius', 105), ('Uganda', 115), ('Namibia', 125), ('Botswana', 135),\n",
    "          ('Zimbabwe', 145)]\n",
    "for africa in africas:\n",
    "    payload[africa[0]] = get_number(Africa[africa[1]])\n",
    "payload"
   ]
  }
 ],
 "metadata": {
  "kernelspec": {
   "display_name": "Python 3 (ipykernel)",
   "language": "python",
   "name": "python3"
  },
  "language_info": {
   "codemirror_mode": {
    "name": "ipython",
    "version": 3
   },
   "file_extension": ".py",
   "mimetype": "text/x-python",
   "name": "python",
   "nbconvert_exporter": "python",
   "pygments_lexer": "ipython3",
   "version": "3.10.4"
  }
 },
 "nbformat": 4,
 "nbformat_minor": 5
}
