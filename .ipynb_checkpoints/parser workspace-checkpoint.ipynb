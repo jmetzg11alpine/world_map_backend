{
 "cells": [
  {
   "cell_type": "code",
   "execution_count": 2,
   "id": "a13a7b3e",
   "metadata": {},
   "outputs": [],
   "source": [
    "from bs4 import BeautifulSoup \n",
    "import requests"
   ]
  },
  {
   "cell_type": "code",
   "execution_count": 7,
   "id": "2abcdece",
   "metadata": {},
   "outputs": [],
   "source": [
    "headers = {'user-Agent': 'Mozilla/5.0 (compatible; MSIE 9.0; Windows NT 6.1; Win64; x64; Trident/5.0; .NET CLR 2.0.50727; SLCC2; .NET CLR 3.5.30729; .NET CLR 3.0.30729; Media Center PC 6.0; Zune 4.0; Tablet PC 2.0; InfoPath.3; .NET4.0C; .NET4.0E)'}"
   ]
  },
  {
   "cell_type": "code",
   "execution_count": 76,
   "id": "eecabf98",
   "metadata": {},
   "outputs": [
    {
     "data": {
      "text/plain": [
       "<Response [200]>"
      ]
     },
     "execution_count": 76,
     "metadata": {},
     "output_type": "execute_result"
    }
   ],
   "source": [
    "session = requests.Session()\n",
    "request = session.get(url='https://tradingeconomics.com/stocks', timeout=30, headers=headers)\n",
    "soup = BeautifulSoup(request.text, 'html.parser')\n",
    "tbodies = soup.find_all('tbody')\n",
    "\n",
    "Europe = tbodies[1].find_all('td')\n",
    "Americas = tbodies[2].find_all('td')\n",
    "Asia = tbodies[3].find_all('td')\n",
    "Australia = tbodies[4].find_all('td')\n",
    "Africa = tbodies[5].find_all('td')\n",
    "\n",
    "request"
   ]
  },
  {
   "cell_type": "code",
   "execution_count": null,
   "id": "73ebbd6a",
   "metadata": {},
   "outputs": [],
   "source": [
    "def get_number(td):\n",
    "    x = str(td)\n",
    "    x = x.split('\\n')[1].strip(' ')\n",
    "    return x.split('\\r')[0]"
   ]
  },
  {
   "cell_type": "code",
   "execution_count": 69,
   "id": "30ac84ad",
   "metadata": {},
   "outputs": [
    {
     "data": {
      "text/plain": [
       "[('UK', '1.67% '),\n",
       " ('Germany', '2.62% '),\n",
       " ('France', '1.79% '),\n",
       " ('Italy', '3.94% '),\n",
       " ('Spain', '0.00% '),\n",
       " ('Russia', '1.51% '),\n",
       " ('Turkey', '7.54% '),\n",
       " ('Sweden', '3.09% '),\n",
       " ('Poland', '3.88% '),\n",
       " ('Norway', '0.76% '),\n",
       " ('Austria', '7.10% '),\n",
       " ('Denmark', '4.22% '),\n",
       " ('Finland', '3.40% ')]"
      ]
     },
     "execution_count": 69,
     "metadata": {},
     "output_type": "execute_result"
    }
   ],
   "source": [
    "payload = []\n",
    "europes = [('UK', 5), ('Germany', 15), ('France', 25), ('Italy', 35), ('Spain', 45), ('Russia', 55),\n",
    "          ('Turkey', 75), ('Sweden', 95), ('Poland', 105), ('Norway', 125), ('Austria', 135), ('Denmark', 145),\n",
    "          ('Finland', 155)]\n",
    "for europe in europes:\n",
    "    payload.append((europe[0], get_number(Europe[europe[1]])))\n",
    "payload"
   ]
  },
  {
   "cell_type": "code",
   "execution_count": 71,
   "id": "1dcddb19",
   "metadata": {},
   "outputs": [
    {
     "data": {
      "text/plain": [
       "'-3.32% '"
      ]
     },
     "execution_count": 71,
     "metadata": {},
     "output_type": "execute_result"
    }
   ],
   "source": [
    "get_number(Americas[85])"
   ]
  },
  {
   "cell_type": "code",
   "execution_count": 72,
   "id": "05331d4c",
   "metadata": {
    "scrolled": false
   },
   "outputs": [
    {
     "data": {
      "text/plain": [
       "[('USA', '1.54% '),\n",
       " ('Ecuador', '-0.36% '),\n",
       " ('Canada', '0.73% '),\n",
       " ('Brazil', '-0.66% '),\n",
       " ('Mexico', '0.05% '),\n",
       " ('Peru', '5.25% '),\n",
       " ('Argentina', '-3.32% '),\n",
       " ('Venezuela', '4.24% '),\n",
       " ('Colombia', '-0.14% '),\n",
       " ('Chile', '4.66% ')]"
      ]
     },
     "execution_count": 72,
     "metadata": {},
     "output_type": "execute_result"
    }
   ],
   "source": [
    "payload = []\n",
    "americas = [('USA', 15), ('Ecuador', 35), ('Canada', 45), ('Brazil', 55), ('Mexico', 65), ('Peru', 75),\n",
    "           ('Argentina', 85), ('Venezuela', 95), ('Colombia', 105), ('Chile', 115)]\n",
    "for america in americas:\n",
    "    payload.append((america[0], get_number(Americas[america[1]])))\n",
    "payload"
   ]
  },
  {
   "cell_type": "code",
   "execution_count": 75,
   "id": "c58226b9",
   "metadata": {
    "scrolled": false
   },
   "outputs": [
    {
     "data": {
      "text/plain": [
       "[('Japan', '0.22% '),\n",
       " ('China', '1.18% '),\n",
       " ('India', '0.62% '),\n",
       " ('Bangladesh', '0.49% '),\n",
       " ('Indonesia', '0.58% '),\n",
       " ('Saudi Arabia', '-0.38% '),\n",
       " ('Taiwan', '3.80% '),\n",
       " ('Thailand', '0.06% '),\n",
       " ('Malaysia', '-0.57% '),\n",
       " ('Philippines', '1.45% '),\n",
       " ('Pakistan', '1.09% '),\n",
       " ('Kazakhstan', '-1.65% '),\n",
       " ('Vietnam', '-3.19% ')]"
      ]
     },
     "execution_count": 75,
     "metadata": {},
     "output_type": "execute_result"
    }
   ],
   "source": [
    "payload = []\n",
    "asias = [('Japan', 5), ('China', 25), ('India', 55), ('Bangladesh', 65), ('Indonesia', 75), ('Saudi Arabia', 85),\n",
    "        ('Taiwan', 95), ('Thailand', 115), ('Malaysia', 125), ('Philippines', 165), ('Pakistan', 175),\n",
    "        ('Kazakhstan', 185), ('Vietnam', 215)]\n",
    "# for i, x in enumerate(Asia):\n",
    "#     print(i,x.text)\n",
    "for asia in asias:\n",
    "    payload.append((asia[0], get_number(Asia[asia[1]])))\n",
    "payload"
   ]
  },
  {
   "cell_type": "code",
   "execution_count": 77,
   "id": "4870bd38",
   "metadata": {},
   "outputs": [
    {
     "name": "stdout",
     "output_type": "stream",
     "text": [
      "0 \n",
      "1 \n",
      "\n",
      "AUALL\n",
      "\n",
      "\n",
      "2 \r\n",
      "                                     \r\n",
      "                                    7188  \r\n",
      "                                    \n",
      "3 \n",
      "\r\n",
      "                                    38  \r\n",
      "                                \n",
      "4 \r\n",
      "                                    0.53%\r\n",
      "                                \n",
      "5 \r\n",
      "                                    0.14% \r\n",
      "                                \n",
      "6 \r\n",
      "                                        4.60% \r\n",
      "                                \n",
      "7 \r\n",
      "                                    -7.10% \r\n",
      "                                \n",
      "8 \r\n",
      "                                    Nov/09 \r\n",
      "                                \n",
      "9 \n",
      "10 \n",
      "11 \n",
      "\n",
      "AU200\n",
      "\n",
      "\n",
      "12 \r\n",
      "                                     \r\n",
      "                                    7001  \r\n",
      "                                    \n",
      "13 \n",
      "\r\n",
      "                                    42  \r\n",
      "                                \n",
      "14 \r\n",
      "                                    0.61%\r\n",
      "                                \n",
      "15 \r\n",
      "                                    0.21% \r\n",
      "                                \n",
      "16 \r\n",
      "                                        5.00% \r\n",
      "                                \n",
      "17 \r\n",
      "                                    -5.69% \r\n",
      "                                \n",
      "18 \r\n",
      "                                    Nov/09 \r\n",
      "                                \n",
      "19 \n",
      "20 \n",
      "21 \n",
      "\n",
      "AU50\n",
      "\n",
      "\n",
      "22 \r\n",
      "                                     \r\n",
      "                                    6818  \r\n",
      "                                    \n",
      "23 \n",
      "\r\n",
      "                                    42  \r\n",
      "                                \n",
      "24 \r\n",
      "                                    0.61%\r\n",
      "                                \n",
      "25 \r\n",
      "                                    0.30% \r\n",
      "                                \n",
      "26 \r\n",
      "                                        4.83% \r\n",
      "                                \n",
      "27 \r\n",
      "                                    -4.10% \r\n",
      "                                \n",
      "28 \r\n",
      "                                    Nov/09 \r\n",
      "                                \n",
      "29 \n",
      "30 \n",
      "31 \n",
      "\n",
      "NZX 50\n",
      "\n",
      "\n",
      "32 \r\n",
      "                                     \r\n",
      "                                    11143  \r\n",
      "                                    \n",
      "33 \n",
      "\r\n",
      "                                    8  \r\n",
      "                                \n",
      "34 \r\n",
      "                                    -0.08%\r\n",
      "                                \n",
      "35 \r\n",
      "                                    -1.23% \r\n",
      "                                \n",
      "36 \r\n",
      "                                        2.06% \r\n",
      "                                \n",
      "37 \r\n",
      "                                    -14.43% \r\n",
      "                                \n",
      "38 \r\n",
      "                                    Nov/09 \r\n",
      "                                \n",
      "39 \n"
     ]
    }
   ],
   "source": [
    "for i, x in enumerate(Australia):\n",
    "    print(i,x.text)"
   ]
  }
 ],
 "metadata": {
  "kernelspec": {
   "display_name": "Python 3 (ipykernel)",
   "language": "python",
   "name": "python3"
  },
  "language_info": {
   "codemirror_mode": {
    "name": "ipython",
    "version": 3
   },
   "file_extension": ".py",
   "mimetype": "text/x-python",
   "name": "python",
   "nbconvert_exporter": "python",
   "pygments_lexer": "ipython3",
   "version": "3.10.4"
  }
 },
 "nbformat": 4,
 "nbformat_minor": 5
}
